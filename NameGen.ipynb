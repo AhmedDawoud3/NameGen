{
 "cells": [
  {
   "cell_type": "code",
   "execution_count": 1,
   "metadata": {},
   "outputs": [],
   "source": [
    "import torch\n",
    "import torch.nn.functional as F\n",
    "import matplotlib.pyplot as plt\n",
    "import numpy as np\n",
    "\n",
    "import os\n",
    "import glob"
   ]
  },
  {
   "cell_type": "code",
   "execution_count": 2,
   "metadata": {},
   "outputs": [
    {
     "data": {
      "text/plain": [
       "144"
      ]
     },
     "execution_count": 2,
     "metadata": {},
     "output_type": "execute_result"
    }
   ],
   "source": [
    "path = os.path.join(os.path.abspath(\"\"), \"names\")\n",
    "files = glob.glob(path + \"/*.txt\")\n",
    "len(files)"
   ]
  },
  {
   "cell_type": "code",
   "execution_count": 3,
   "metadata": {},
   "outputs": [
    {
     "data": {
      "text/plain": [
       "2117219"
      ]
     },
     "execution_count": 3,
     "metadata": {},
     "output_type": "execute_result"
    }
   ],
   "source": [
    "names = []\n",
    "for f in files:\n",
    "    with open(f, \"r\") as file:\n",
    "        names += file.readlines()\n",
    "        \n",
    "len(names)"
   ]
  },
  {
   "cell_type": "code",
   "execution_count": 4,
   "metadata": {},
   "outputs": [
    {
     "data": {
      "text/plain": [
       "103564"
      ]
     },
     "execution_count": 4,
     "metadata": {},
     "output_type": "execute_result"
    }
   ],
   "source": [
    "names = [name.lower().strip().split(\",\")[0] for name in names]\n",
    "names = list(set(names))\n",
    "len(names)"
   ]
  },
  {
   "cell_type": "code",
   "execution_count": 5,
   "metadata": {},
   "outputs": [
    {
     "data": {
      "text/plain": [
       "['pharrell', 'carden', 'syniah', 'avannah', 'aylaa']"
      ]
     },
     "execution_count": 5,
     "metadata": {},
     "output_type": "execute_result"
    }
   ],
   "source": [
    "names[:5]"
   ]
  },
  {
   "cell_type": "code",
   "execution_count": 6,
   "metadata": {},
   "outputs": [
    {
     "data": {
      "text/plain": [
       "(2, 15)"
      ]
     },
     "execution_count": 6,
     "metadata": {},
     "output_type": "execute_result"
    }
   ],
   "source": [
    "min(len(name) for name in names), max(len(name) for name in names)"
   ]
  },
  {
   "cell_type": "code",
   "execution_count": 7,
   "metadata": {},
   "outputs": [
    {
     "data": {
      "text/plain": [
       "(27,\n",
       " '.->0 a->1 b->2 c->3 d->4 e->5 f->6 g->7 h->8 i->9 j->10 k->11 l->12 m->13 n->14 o->15 p->16 q->17 r->18 s->19 t->20 u->21 v->22 w->23 x->24 y->25 z->26')"
      ]
     },
     "execution_count": 7,
     "metadata": {},
     "output_type": "execute_result"
    }
   ],
   "source": [
    "stoi = {word: i for i, word in enumerate([\".\"] + sorted(set(\"\".join(names))))}\n",
    "itos = {i: word for word, i in stoi.items()}\n",
    "vocab_size = len(itos)\n",
    "vocab_size, \" \".join(f\"{v}->{i}\" for i, v in itos.items())"
   ]
  },
  {
   "cell_type": "code",
   "execution_count": 8,
   "metadata": {},
   "outputs": [
    {
     "name": "stdout",
     "output_type": "stream",
     "text": [
      "torch.Size([701604, 3]) torch.Size([701604])\n",
      "torch.Size([77703, 3]) torch.Size([77703])\n"
     ]
    }
   ],
   "source": [
    "# build the dataset\n",
    "block_size = (\n",
    "    3  # context length: how many characters do we take to predict the next one?\n",
    ")\n",
    "\n",
    "\n",
    "def build_dataset(words):\n",
    "    X, Y = [], []\n",
    "\n",
    "    for w in words:\n",
    "        context = [0] * block_size\n",
    "        for ch in w + \".\":\n",
    "            ix = stoi[ch]\n",
    "            X.append(context)\n",
    "            Y.append(ix)\n",
    "            context = context[1:] + [ix]  # crop and append\n",
    "\n",
    "    X = torch.tensor(X)\n",
    "    Y = torch.tensor(Y)\n",
    "    print(X.shape, Y.shape)\n",
    "    return X, Y\n",
    "\n",
    "\n",
    "import random\n",
    "\n",
    "random.shuffle(names)\n",
    "n1 = int(0.9 * len(names))\n",
    "\n",
    "Xtr, Ytr = build_dataset(names[:n1])\n",
    "Xdev, Ydev = build_dataset(names[n1:])"
   ]
  },
  {
   "cell_type": "code",
   "execution_count": 9,
   "metadata": {},
   "outputs": [
    {
     "name": "stdout",
     "output_type": "stream",
     "text": [
      "12097\n"
     ]
    }
   ],
   "source": [
    "n_embd = 10\n",
    "n_hidden = 200\n",
    "\n",
    "C = torch.randn((vocab_size, n_embd))\n",
    "# Layer 1\n",
    "W1 = torch.randn((n_embd * block_size, n_hidden)) / ((n_embd * block_size) ** 0.5)\n",
    "# Layer 2\n",
    "W2 = torch.randn((n_hidden, vocab_size)) * 0.1\n",
    "B = torch.randn(vocab_size) * 0.01\n",
    "# BatchNorm\n",
    "bngain = torch.randn((1, n_hidden)) * 0.1 + 1.0\n",
    "bnbias = torch.randn((1, n_hidden)) * 0.1\n",
    "\n",
    "# BatchNorm non-trainable parameters\n",
    "bn_running_mean = torch.zeros(n_hidden)\n",
    "bn_running_var = torch.ones(n_hidden)\n",
    "\n",
    "\n",
    "parameters = [C, W1, W2, B, bngain, bnbias]\n",
    "print(sum(p.nelement() for p in parameters))\n",
    "for p in parameters:\n",
    "    p.requires_grad = False  # YESSS !!!!!!!!!!"
   ]
  },
  {
   "cell_type": "code",
   "execution_count": 10,
   "metadata": {},
   "outputs": [
    {
     "name": "stdout",
     "output_type": "stream",
     "text": [
      "epoch 0 tr_loss 3.61142635345459 dev_loss 3.620522975921631\n",
      "epoch 10000 tr_loss 2.308915853500366 dev_loss 2.407261610031128\n",
      "epoch 20000 tr_loss 2.1868159770965576 dev_loss 2.301748275756836\n",
      "epoch 30000 tr_loss 2.0601558685302734 dev_loss 2.215646743774414\n",
      "epoch 40000 tr_loss 2.331998348236084 dev_loss 2.168595314025879\n",
      "epoch 50000 tr_loss 2.334664821624756 dev_loss 2.316117286682129\n",
      "epoch 60000 tr_loss 2.2782063484191895 dev_loss 2.139115810394287\n",
      "epoch 70000 tr_loss 2.135287046432495 dev_loss 2.227762460708618\n",
      "epoch 80000 tr_loss 1.9910132884979248 dev_loss 2.057940721511841\n",
      "epoch 90000 tr_loss 2.1264047622680664 dev_loss 2.257378339767456\n",
      "epoch 100000 tr_loss 2.1032516956329346 dev_loss 2.3363795280456543\n",
      "epoch 110000 tr_loss 2.225733757019043 dev_loss 2.0526487827301025\n",
      "epoch 120000 tr_loss 2.2084264755249023 dev_loss 2.1021597385406494\n",
      "epoch 130000 tr_loss 2.129742383956909 dev_loss 2.185094118118286\n",
      "epoch 140000 tr_loss 2.070974111557007 dev_loss 2.1167402267456055\n",
      "epoch 150000 tr_loss 2.211230754852295 dev_loss 1.9787943363189697\n",
      "epoch 160000 tr_loss 2.21046781539917 dev_loss 2.2177934646606445\n",
      "epoch 170000 tr_loss 2.1312308311462402 dev_loss 2.3966267108917236\n",
      "epoch 180000 tr_loss 2.1990323066711426 dev_loss 2.0266129970550537\n",
      "epoch 190000 tr_loss 2.1228866577148438 dev_loss 2.1346561908721924\n"
     ]
    }
   ],
   "source": [
    "batch_size = n = 128\n",
    "tr_loss_history = []\n",
    "dev_loss_history = []\n",
    "epochs = 200_000\n",
    "learning_rate = 1e-1\n",
    "\n",
    "with torch.no_grad():\n",
    "    for i in range(epochs):\n",
    "        # mini batch\n",
    "        ix = torch.randint(0, Xtr.shape[0], (batch_size,))\n",
    "        Xb, Yb = Xtr[ix], Ytr[ix]\n",
    "        # forward pass\n",
    "        # embedding\n",
    "        emb = C[Xb]\n",
    "        # flatten\n",
    "        flattened = emb.view(emb.shape[0], -1)\n",
    "        # layer 1\n",
    "        x = flattened @ W1\n",
    "        # BatchNorm\n",
    "        bnmean = x.mean(0, keepdim=True)\n",
    "        bnvar = x.var(0, keepdim=True)\n",
    "        # Torch's default is unbiased variance (Bessel's correction),\n",
    "        # but in the paper they use the biased variance for forward pass and unbiased for backward pass\n",
    "\n",
    "        bn_running_mean = 0.99 * bn_running_mean + 0.01 * bnmean.squeeze()\n",
    "        bn_running_var = 0.99 * bn_running_var + 0.01 * bnvar.squeeze()\n",
    "\n",
    "        x_hat = (x - bnmean) / (bnvar + 1e-5).sqrt()\n",
    "        bn = bngain * x_hat + bnbias\n",
    "        # activation\n",
    "        h = bn.tanh()\n",
    "        # layer 2\n",
    "        logits = h @ W2 + B\n",
    "        # loss\n",
    "        tr_loss = F.cross_entropy(logits, Yb)\n",
    "        tr_loss_history.append(tr_loss.item())\n",
    "        # dev loss\n",
    "        dev_ix = torch.randint(0, Xdev.shape[0], (batch_size,))\n",
    "        Xdevb, Ydevb = Xdev[dev_ix], Ydev[dev_ix]\n",
    "        dev_flattened = C[Xdevb].view(Xdevb.shape[0], -1) @ W1\n",
    "        dev_hat = (dev_flattened - bn_running_mean) / (bn_running_var + 1e-5).sqrt()\n",
    "        dev_h = (dev_hat * bngain + bnbias).tanh()\n",
    "        dev_logits = dev_h @ W2 + B\n",
    "        dev_loss = F.cross_entropy(\n",
    "            dev_logits,\n",
    "            Ydevb,\n",
    "        )\n",
    "        dev_loss_history.append(dev_loss.item())\n",
    "\n",
    "        if i % 10000 == 0:\n",
    "            print(f\"epoch {i} tr_loss {tr_loss.item()} dev_loss {dev_loss.item()}\")\n",
    "\n",
    "        \"\"\" \n",
    "            The Backward Pass!\n",
    "        \"\"\"\n",
    "        dlogits = F.softmax(logits, dim=1)\n",
    "        dlogits[range(n), Yb] -= 1\n",
    "        dlogits /= n\n",
    "\n",
    "        dh = dlogits @ W2.T\n",
    "        dW2 = h.T @ dlogits\n",
    "        # The bias is one value per neuron,\n",
    "        # so we sum the gradients over the batch (multiple paths in the partial derivative graph)\n",
    "        dB = dlogits.sum(dim=0)\n",
    "\n",
    "        dbn = dh * (1.0 - h**2)\n",
    "        dbngain = (dbn * x_hat).sum(\n",
    "            dim=0, keepdim=True\n",
    "        )  # Same as Bias, we sum over the batch dimension\n",
    "        dbnbias = dbn.sum(0, keepdim=True)\n",
    "\n",
    "        dx = (\n",
    "            bngain\n",
    "            * ((bnvar + 1e-5) ** -0.5)\n",
    "            * (dbn - dbn.sum(0) / n - x_hat * (dbn * x_hat).sum(0) / (n - 1))\n",
    "        )\n",
    "        # Using a pen and paper to derive this is... a good idea\n",
    "        # Note that the mean and variance are calculated over the batch dimension,\n",
    "        # so we sum them and such that their gradient is the sum of the gradients over the batch dimension (It should be the same original dimensions)\n",
    "        # We use the unbiased variance for the backward pass (Bessel's correction)\n",
    "        dW1 = flattened.T @ dx\n",
    "        dFlattened = dx @ W1.T\n",
    "\n",
    "        demb = dFlattened.view(emb.shape)\n",
    "\n",
    "        dC = torch.zeros_like(C)\n",
    "        dC = dC.scatter_add_(\n",
    "            dim=0,\n",
    "            index=Xb.view(-1, 1).expand(-1, dC.shape[-1]),\n",
    "            src=demb.view(-1, dC.shape[-1]),\n",
    "        )\n",
    "\n",
    "        grads = [dC, dW1, dW2, dB, dbngain, dbnbias]\n",
    "\n",
    "        lr = learning_rate if i < 80_000 else learning_rate / 10\n",
    "        for p, grad in zip(parameters, grads):\n",
    "            p.data += -lr * grad\n"
   ]
  },
  {
   "cell_type": "code",
   "execution_count": 11,
   "metadata": {},
   "outputs": [
    {
     "data": {
      "text/plain": [
       "<matplotlib.legend.Legend at 0x141fe07e110>"
      ]
     },
     "execution_count": 11,
     "metadata": {},
     "output_type": "execute_result"
    },
    {
     "data": {
      "image/png": "[encoded data removed]",
      "text/plain": [
       "<Figure size 640x480 with 1 Axes>"
      ]
     },
     "metadata": {},
     "output_type": "display_data"
    }
   ],
   "source": [
    "rolling = 1000\n",
    "plt.plot(torch.tensor(tr_loss_history).view(-1, rolling).mean(1), label=\"train\")\n",
    "plt.plot(torch.tensor(dev_loss_history).view(-1, rolling).mean(1), label=\"dev\")\n",
    "plt.legend()"
   ]
  },
  {
   "cell_type": "code",
   "execution_count": 12,
   "metadata": {},
   "outputs": [
    {
     "name": "stdout",
     "output_type": "stream",
     "text": [
      "train 2.1281325817108154\n",
      "val 2.148608446121216\n"
     ]
    }
   ],
   "source": [
    "# train loss\n",
    "@torch.no_grad()\n",
    "def split_loss(split):\n",
    "  x,y = {\n",
    "    'train': (Xtr, Ytr),\n",
    "    'val': (Xdev, Ydev),\n",
    "  }[split]\n",
    "  emb = C[x] \n",
    "  flattened = emb.view(emb.shape[0], -1) \n",
    "  x = flattened @ W1\n",
    "  bn = bngain * (x - bn_running_mean) * (bn_running_var + 1e-5)**-0.5 + bnbias\n",
    "  h = torch.tanh(bn)\n",
    "  logits = h @ W2 + B \n",
    "  loss = F.cross_entropy(logits, y)\n",
    "  print(split, loss.item())\n",
    "\n",
    "split_loss('train')\n",
    "split_loss('val')"
   ]
  },
  {
   "cell_type": "code",
   "execution_count": 13,
   "metadata": {},
   "outputs": [
    {
     "name": "stdout",
     "output_type": "stream",
     "text": [
      "der.\n",
      "priah.\n",
      "alla.\n",
      "iztton.\n",
      "khii.\n",
      "kailas.\n",
      "dakhalummabriya.\n",
      "bel.\n",
      "roshchrial.\n",
      "sabirg.\n",
      "erelanna.\n",
      "breian.\n",
      "kymbraxfaileen.\n",
      "kyena.\n",
      "jaleilushu.\n",
      "deka.\n",
      "lal.\n",
      "meshir.\n",
      "cloui.\n",
      "pireemiosha.\n"
     ]
    }
   ],
   "source": [
    "for _ in range(20):\n",
    "    out = []\n",
    "    context = [0] * block_size \n",
    "    while True:\n",
    "      # forward pass\n",
    "      emb = C[torch.tensor([context])] \n",
    "      embcat = emb.view(emb.shape[0], -1) \n",
    "      x = embcat @ W1\n",
    "      bn = bngain * (x - bnmean) * (bnvar + 1e-5)**-0.5 + bnbias\n",
    "      h = torch.tanh(bn) \n",
    "      logits = h @ W2 +B\n",
    "      # sample\n",
    "      probs = F.softmax(logits, dim=1)\n",
    "      ix = torch.multinomial(probs, num_samples=1, ).item()\n",
    "      context = context[1:] + [ix]\n",
    "      out.append(ix)\n",
    "      if ix == 0:\n",
    "        break\n",
    "\n",
    "    print(''.join(itos[i] for i in out))"
   ]
  }
 ],
 "metadata": {
  "kernelspec": {
   "display_name": "torch",
   "language": "python",
   "name": "python3"
  },
  "language_info": {
   "codemirror_mode": {
    "name": "ipython",
    "version": 3
   },
   "file_extension": ".py",
   "mimetype": "text/x-python",
   "name": "python",
   "nbconvert_exporter": "python",
   "pygments_lexer": "ipython3",
   "version": "3.11.9"
  }
 },
 "nbformat": 4,
 "nbformat_minor": 2
}
